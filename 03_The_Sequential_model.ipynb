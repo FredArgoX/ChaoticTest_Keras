{
  "nbformat": 4,
  "nbformat_minor": 0,
  "metadata": {
    "colab": {
      "provenance": [],
      "authorship_tag": "ABX9TyMZElpGW53sLT9MMIiDTevT",
      "include_colab_link": true
    },
    "kernelspec": {
      "name": "python3",
      "display_name": "Python 3"
    },
    "language_info": {
      "name": "python"
    }
  },
  "cells": [
    {
      "cell_type": "markdown",
      "metadata": {
        "id": "view-in-github",
        "colab_type": "text"
      },
      "source": [
        "<a href=\"https://colab.research.google.com/github/FredArgoX/ChaoticTest_Keras/blob/main/03_The_Sequential_model.ipynb\" target=\"_parent\"><img src=\"https://colab.research.google.com/assets/colab-badge.svg\" alt=\"Open In Colab\"/></a>"
      ]
    },
    {
      "cell_type": "markdown",
      "source": [
        "Source:\n",
        "[The Sequential model](https://keras.io/guides/sequential_model/)"
      ],
      "metadata": {
        "id": "kzLQFJvxAdBV"
      }
    },
    {
      "cell_type": "markdown",
      "source": [
        "# Setup"
      ],
      "metadata": {
        "id": "McwDWlqeP5n2"
      }
    },
    {
      "cell_type": "code",
      "execution_count": 1,
      "metadata": {
        "id": "l_UoBPL9ASIq"
      },
      "outputs": [],
      "source": [
        "import keras\n",
        "from keras import layers\n",
        "from keras import ops"
      ]
    },
    {
      "cell_type": "markdown",
      "source": [
        "# When to use a Sequential model"
      ],
      "metadata": {
        "id": "pNNMxhB5QETy"
      }
    },
    {
      "cell_type": "markdown",
      "source": [
        "A Sequential model is appropriate for a plain stack of layers where each layer has exactly one input tensor and one output tensor"
      ],
      "metadata": {
        "id": "93PWXlaQQIk7"
      }
    },
    {
      "cell_type": "code",
      "source": [
        "# This cell is equivalent to the next cell\n",
        "\n",
        "# Define Sequential model with 3 layers\n",
        "model = keras.Sequential(\n",
        "    [\n",
        "        layers.Dense(2, activation='relu', name='layer1'),\n",
        "        layers.Dense(3, activation='relu', name='layer2'),\n",
        "        layers.Dense(4, name='layer3'),\n",
        "    ]\n",
        ")\n",
        "# Call model on a test input\n",
        "x = ops.ones((3, 3))\n",
        "y = model(x)"
      ],
      "metadata": {
        "id": "Tjjb8No0QGqp"
      },
      "execution_count": 2,
      "outputs": []
    },
    {
      "cell_type": "code",
      "source": [],
      "metadata": {
        "id": "I54gpj4RQ8-C"
      },
      "execution_count": null,
      "outputs": []
    }
  ]
}