{
  "nbformat": 4,
  "nbformat_minor": 0,
  "metadata": {
    "colab": {
      "provenance": [],
      "authorship_tag": "ABX9TyNm8NOxByjM9qkVGv34psF9",
      "include_colab_link": true
    },
    "kernelspec": {
      "name": "python3",
      "display_name": "Python 3"
    },
    "language_info": {
      "name": "python"
    }
  },
  "cells": [
    {
      "cell_type": "markdown",
      "metadata": {
        "id": "view-in-github",
        "colab_type": "text"
      },
      "source": [
        "<a href=\"https://colab.research.google.com/github/FredArgoX/ChaoticTest_Keras/blob/main/03_The_Sequential_model.ipynb\" target=\"_parent\"><img src=\"https://colab.research.google.com/assets/colab-badge.svg\" alt=\"Open In Colab\"/></a>"
      ]
    },
    {
      "cell_type": "markdown",
      "source": [
        "Source:\n",
        "[The Sequential model](https://keras.io/guides/sequential_model/)"
      ],
      "metadata": {
        "id": "kzLQFJvxAdBV"
      }
    },
    {
      "cell_type": "markdown",
      "source": [
        "# Setup"
      ],
      "metadata": {
        "id": "McwDWlqeP5n2"
      }
    },
    {
      "cell_type": "code",
      "execution_count": 1,
      "metadata": {
        "id": "l_UoBPL9ASIq"
      },
      "outputs": [],
      "source": [
        "import keras\n",
        "from keras import layers\n",
        "from keras import ops"
      ]
    },
    {
      "cell_type": "markdown",
      "source": [
        "# When to use a Sequential model"
      ],
      "metadata": {
        "id": "pNNMxhB5QETy"
      }
    },
    {
      "cell_type": "markdown",
      "source": [
        "A Sequential model is appropriate for a plain stack of layers where each layer has exactly one input tensor and one output tensor"
      ],
      "metadata": {
        "id": "93PWXlaQQIk7"
      }
    },
    {
      "cell_type": "code",
      "source": [
        "# This cell is equivalent to the next cell\n",
        "\n",
        "# Define Sequential model with 3 layers\n",
        "model = keras.Sequential(\n",
        "    [\n",
        "        layers.Dense(2, activation='relu', name='layer1'),\n",
        "        layers.Dense(3, activation='relu', name='layer2'),\n",
        "        layers.Dense(4, name='layer3'),\n",
        "    ]\n",
        ")\n",
        "# Call model on a test input\n",
        "x = ops.ones((3, 3))\n",
        "y = model(x)"
      ],
      "metadata": {
        "id": "Tjjb8No0QGqp"
      },
      "execution_count": 2,
      "outputs": []
    },
    {
      "cell_type": "code",
      "source": [
        "# This cell is equivalent to the previous cell that uses Sequential model\n",
        "\n",
        "# Create 3  layers\n",
        "layer1 = layers.Dense(2, activation='relu', name='layer1')\n",
        "layer2 = layers.Dense(3, activation='relu', name='layer2')\n",
        "layer3 = layers.Dense(4, name='layer3')\n",
        "\n",
        "# Call layers on a test input\n",
        "x = ops.ones((3, 3))\n",
        "y = layer3(layer2(layer1(x)))"
      ],
      "metadata": {
        "id": "I54gpj4RQ8-C"
      },
      "execution_count": 3,
      "outputs": []
    },
    {
      "cell_type": "markdown",
      "source": [
        "# Creating a Sequential model"
      ],
      "metadata": {
        "id": "sBAi9-wQR4Dx"
      }
    },
    {
      "cell_type": "code",
      "source": [
        "model = keras.Sequential(\n",
        "    [\n",
        "        layers.Dense(2, activation='relu'),\n",
        "        layers.Dense(3, activation='relu'),\n",
        "        layers.Dense(4),\n",
        "    ]\n",
        ")"
      ],
      "metadata": {
        "id": "R1yT9RrYRrNM"
      },
      "execution_count": 4,
      "outputs": []
    },
    {
      "cell_type": "code",
      "source": [
        "model.layers"
      ],
      "metadata": {
        "colab": {
          "base_uri": "https://localhost:8080/"
        },
        "id": "hUbVZDVSSH1F",
        "outputId": "343c7e99-1473-4eb4-bb7d-b3560c3a0047"
      },
      "execution_count": 5,
      "outputs": [
        {
          "output_type": "execute_result",
          "data": {
            "text/plain": [
              "[<Dense name=dense, built=False>,\n",
              " <Dense name=dense_1, built=False>,\n",
              " <Dense name=dense_2, built=False>]"
            ]
          },
          "metadata": {},
          "execution_count": 5
        }
      ]
    },
    {
      "cell_type": "code",
      "source": [
        "model = keras.Sequential()\n",
        "model.add(layers.Dense(2, activation='relu'))\n",
        "model.add(layers.Dense(3, activation='relu'))\n",
        "model.add(layers.Dense(4))"
      ],
      "metadata": {
        "id": "31191pyWSKoP"
      },
      "execution_count": 6,
      "outputs": []
    },
    {
      "cell_type": "code",
      "source": [
        "model.layers"
      ],
      "metadata": {
        "colab": {
          "base_uri": "https://localhost:8080/"
        },
        "id": "NUb-vdVYSdku",
        "outputId": "67315125-ba39-4ea4-dd9a-d3a2ab646a9a"
      },
      "execution_count": 7,
      "outputs": [
        {
          "output_type": "execute_result",
          "data": {
            "text/plain": [
              "[<Dense name=dense_3, built=False>,\n",
              " <Dense name=dense_4, built=False>,\n",
              " <Dense name=dense_5, built=False>]"
            ]
          },
          "metadata": {},
          "execution_count": 7
        }
      ]
    },
    {
      "cell_type": "code",
      "source": [
        "model.pop()\n",
        "model.layers"
      ],
      "metadata": {
        "colab": {
          "base_uri": "https://localhost:8080/"
        },
        "id": "LaqX8yzuSger",
        "outputId": "b45efcfd-973b-4441-a655-da1cfa15d8ce"
      },
      "execution_count": 8,
      "outputs": [
        {
          "output_type": "execute_result",
          "data": {
            "text/plain": [
              "[<Dense name=dense_3, built=False>, <Dense name=dense_4, built=False>]"
            ]
          },
          "metadata": {},
          "execution_count": 8
        }
      ]
    },
    {
      "cell_type": "code",
      "source": [
        "len(model.layers)"
      ],
      "metadata": {
        "colab": {
          "base_uri": "https://localhost:8080/"
        },
        "id": "ousCu9lwSkNS",
        "outputId": "90155d9c-c2ad-4a67-ece4-d0f57554419b"
      },
      "execution_count": 9,
      "outputs": [
        {
          "output_type": "execute_result",
          "data": {
            "text/plain": [
              "2"
            ]
          },
          "metadata": {},
          "execution_count": 9
        }
      ]
    },
    {
      "cell_type": "code",
      "source": [
        "model = keras.Sequential(name='my_sequential')\n",
        "model.add(layers.Dense(2, activation='relu', name='layer1'))\n",
        "model.add(layers.Dense(3, activation='relu', name='layer2'))\n",
        "model.add(layers.Dense(4, name='layer3'))"
      ],
      "metadata": {
        "id": "U4-6qrGpSoe7"
      },
      "execution_count": 10,
      "outputs": []
    },
    {
      "cell_type": "code",
      "source": [
        "model.layers"
      ],
      "metadata": {
        "colab": {
          "base_uri": "https://localhost:8080/"
        },
        "id": "vwWpozH0TFLA",
        "outputId": "f991897b-a04a-48e3-e9f3-4ae58a349bb6"
      },
      "execution_count": 11,
      "outputs": [
        {
          "output_type": "execute_result",
          "data": {
            "text/plain": [
              "[<Dense name=layer1, built=False>,\n",
              " <Dense name=layer2, built=False>,\n",
              " <Dense name=layer3, built=False>]"
            ]
          },
          "metadata": {},
          "execution_count": 11
        }
      ]
    },
    {
      "cell_type": "markdown",
      "source": [
        "# Specifying the input shape in advance"
      ],
      "metadata": {
        "id": "MhD_g-XqTMNv"
      }
    },
    {
      "cell_type": "code",
      "source": [],
      "metadata": {
        "id": "VbQsyzlETGv5"
      },
      "execution_count": null,
      "outputs": []
    }
  ]
}