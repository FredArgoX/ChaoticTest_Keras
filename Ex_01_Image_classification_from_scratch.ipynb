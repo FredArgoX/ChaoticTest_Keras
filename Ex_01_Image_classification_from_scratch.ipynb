{
  "nbformat": 4,
  "nbformat_minor": 0,
  "metadata": {
    "colab": {
      "provenance": [],
      "authorship_tag": "ABX9TyPQIM1977q3G5D0HV/Q5bKh",
      "include_colab_link": true
    },
    "kernelspec": {
      "name": "python3",
      "display_name": "Python 3"
    },
    "language_info": {
      "name": "python"
    }
  },
  "cells": [
    {
      "cell_type": "markdown",
      "metadata": {
        "id": "view-in-github",
        "colab_type": "text"
      },
      "source": [
        "<a href=\"https://colab.research.google.com/github/FredArgoX/ChaoticTest_Keras/blob/main/Ex_01_Image_classification_from_scratch.ipynb\" target=\"_parent\"><img src=\"https://colab.research.google.com/assets/colab-badge.svg\" alt=\"Open In Colab\"/></a>"
      ]
    },
    {
      "cell_type": "markdown",
      "source": [
        "Source:\n",
        "[Image classification from scratch\n",
        "](https://keras.io/examples/vision/image_classification_from_scratch/)"
      ],
      "metadata": {
        "id": "GBsVet2fBFjz"
      }
    },
    {
      "cell_type": "markdown",
      "source": [
        "# Image classification from scratch"
      ],
      "metadata": {
        "id": "VxGxemxgedr_"
      }
    },
    {
      "cell_type": "markdown",
      "source": [
        "Description: Training an image classifier from scratch on the Kaggle Cats vs Dogs dataset."
      ],
      "metadata": {
        "id": "tvwu50u7eqan"
      }
    },
    {
      "cell_type": "markdown",
      "source": [
        "# Introduction"
      ],
      "metadata": {
        "id": "JbJHWo9nfoJY"
      }
    },
    {
      "cell_type": "markdown",
      "source": [
        "This example shows how to do image classification fro scratch, starting from JPEG image files on disk, without leveraging pre-trained weights or a pre-made Keras Application model. We demonstrate the workflow on the Kaggle Cats vs Dogs binary classification dataset.\n",
        "\n",
        "We use the image_dataset_from_directory utility to generate the datasets, and we use Keras image preprocessing layers for image standarization and data augmentation."
      ],
      "metadata": {
        "id": "BLGRrF9bgY5Z"
      }
    },
    {
      "cell_type": "markdown",
      "source": [
        "# Setup"
      ],
      "metadata": {
        "id": "U-hgNl_kfui0"
      }
    },
    {
      "cell_type": "code",
      "source": [
        "import os\n",
        "import numpy as np\n",
        "import keras\n",
        "from keras import layers\n",
        "from tensorflow import data as tf_data\n",
        "import matplotlib.pyplot as plt"
      ],
      "metadata": {
        "id": "MOuXI2NnBMjq"
      },
      "execution_count": 1,
      "outputs": []
    },
    {
      "cell_type": "markdown",
      "source": [
        "# Load the data: the Cats vs Dogs dataset"
      ],
      "metadata": {
        "id": "71AxWmighPps"
      }
    },
    {
      "cell_type": "code",
      "source": [],
      "metadata": {
        "id": "uXdQIQ1bhS5g"
      },
      "execution_count": null,
      "outputs": []
    },
    {
      "cell_type": "markdown",
      "source": [
        "# Generate a dataset"
      ],
      "metadata": {
        "id": "9TwI7YHzhVIZ"
      }
    },
    {
      "cell_type": "code",
      "source": [],
      "metadata": {
        "id": "wlhbI3wshWc4"
      },
      "execution_count": null,
      "outputs": []
    },
    {
      "cell_type": "markdown",
      "source": [
        "# Visualize the data"
      ],
      "metadata": {
        "id": "Rs_wXbJChXlu"
      }
    },
    {
      "cell_type": "code",
      "source": [],
      "metadata": {
        "id": "EC54sAQXhY_t"
      },
      "execution_count": null,
      "outputs": []
    },
    {
      "cell_type": "markdown",
      "source": [
        "# Using image data augmentation"
      ],
      "metadata": {
        "id": "QCFkSaJuhaVR"
      }
    },
    {
      "cell_type": "code",
      "source": [],
      "metadata": {
        "id": "XMP-tnQbhcOF"
      },
      "execution_count": null,
      "outputs": []
    },
    {
      "cell_type": "markdown",
      "source": [
        "# Standarizing the data"
      ],
      "metadata": {
        "id": "03q23Jgzhdnb"
      }
    },
    {
      "cell_type": "code",
      "source": [],
      "metadata": {
        "id": "rfYUv-JVhfe9"
      },
      "execution_count": null,
      "outputs": []
    },
    {
      "cell_type": "markdown",
      "source": [
        "# Configure the dataset for performance"
      ],
      "metadata": {
        "id": "dWWSCs2Bhlh8"
      }
    },
    {
      "cell_type": "code",
      "source": [],
      "metadata": {
        "id": "hgOTrRyhhn-F"
      },
      "execution_count": null,
      "outputs": []
    },
    {
      "cell_type": "markdown",
      "source": [
        "# Build a model"
      ],
      "metadata": {
        "id": "-_02DJejhr1I"
      }
    },
    {
      "cell_type": "code",
      "source": [],
      "metadata": {
        "id": "y4gwf9ZbhtNN"
      },
      "execution_count": null,
      "outputs": []
    },
    {
      "cell_type": "markdown",
      "source": [
        "# Train the model"
      ],
      "metadata": {
        "id": "vBALW6ezhu6T"
      }
    },
    {
      "cell_type": "code",
      "source": [],
      "metadata": {
        "id": "-R-JiI39hwTH"
      },
      "execution_count": null,
      "outputs": []
    },
    {
      "cell_type": "markdown",
      "source": [
        "# Run inference on new data"
      ],
      "metadata": {
        "id": "sT3T6OnOhxqe"
      }
    },
    {
      "cell_type": "code",
      "source": [],
      "metadata": {
        "id": "QJUX1dHUhztF"
      },
      "execution_count": null,
      "outputs": []
    }
  ]
}