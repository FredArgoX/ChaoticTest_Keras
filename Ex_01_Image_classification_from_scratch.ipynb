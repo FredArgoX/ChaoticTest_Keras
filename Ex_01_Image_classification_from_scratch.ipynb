{
  "nbformat": 4,
  "nbformat_minor": 0,
  "metadata": {
    "colab": {
      "provenance": [],
      "authorship_tag": "ABX9TyOuFErQGxDAxiwuRTJBz7fD",
      "include_colab_link": true
    },
    "kernelspec": {
      "name": "python3",
      "display_name": "Python 3"
    },
    "language_info": {
      "name": "python"
    }
  },
  "cells": [
    {
      "cell_type": "markdown",
      "metadata": {
        "id": "view-in-github",
        "colab_type": "text"
      },
      "source": [
        "<a href=\"https://colab.research.google.com/github/FredArgoX/ChaoticTest_Keras/blob/main/Ex_01_Image_classification_from_scratch.ipynb\" target=\"_parent\"><img src=\"https://colab.research.google.com/assets/colab-badge.svg\" alt=\"Open In Colab\"/></a>"
      ]
    },
    {
      "cell_type": "markdown",
      "source": [
        "Source:\n",
        "[Image classification from scratch\n",
        "](https://keras.io/examples/vision/image_classification_from_scratch/)"
      ],
      "metadata": {
        "id": "GBsVet2fBFjz"
      }
    },
    {
      "cell_type": "markdown",
      "source": [
        "# Image classification from scratch"
      ],
      "metadata": {
        "id": "VxGxemxgedr_"
      }
    },
    {
      "cell_type": "markdown",
      "source": [
        "Description: Training an image classifier from scratch on the Kaggle Cats vs Dogs dataset."
      ],
      "metadata": {
        "id": "tvwu50u7eqan"
      }
    },
    {
      "cell_type": "markdown",
      "source": [
        "# Introduction"
      ],
      "metadata": {
        "id": "JbJHWo9nfoJY"
      }
    },
    {
      "cell_type": "markdown",
      "source": [
        "This example shows how to do image classification fro scratch, starting from JPEG image files on disk, without leveraging pre-trained weights or a pre-made Keras Application model. We demonstrate the workflow on the Kaggle Cats vs Dogs binary classification dataset.\n",
        "\n",
        "We use the image_dataset_from_directory utility to generate the datasets, and we use Keras image preprocessing layers for image standarization and data augmentation."
      ],
      "metadata": {
        "id": "BLGRrF9bgY5Z"
      }
    },
    {
      "cell_type": "markdown",
      "source": [
        "# Setup"
      ],
      "metadata": {
        "id": "U-hgNl_kfui0"
      }
    },
    {
      "cell_type": "code",
      "source": [
        "import os\n",
        "import numpy as np\n",
        "import keras\n",
        "from keras import layers\n",
        "from tensorflow import data as tf_data\n",
        "import matplotlib.pyplot as plt"
      ],
      "metadata": {
        "id": "MOuXI2NnBMjq"
      },
      "execution_count": 1,
      "outputs": []
    },
    {
      "cell_type": "markdown",
      "source": [
        "# Load the data: the Cats vs Dogs dataset"
      ],
      "metadata": {
        "id": "71AxWmighPps"
      }
    },
    {
      "cell_type": "markdown",
      "source": [
        "### Raw data download\n",
        "First, let's download the 786M ZIP archive of the raw data"
      ],
      "metadata": {
        "id": "6LUJYn2Jjmtx"
      }
    },
    {
      "cell_type": "code",
      "source": [
        "! curl -O https://download.microsoft.com/download/3/E/1/3E1C3F21-ECDB-4869-8368-6DEBA77B919F/kagglecatsanddogs_5340.zip"
      ],
      "metadata": {
        "colab": {
          "base_uri": "https://localhost:8080/"
        },
        "id": "uXdQIQ1bhS5g",
        "outputId": "7091e41b-0f34-4d23-e667-b0668687a75d"
      },
      "execution_count": 2,
      "outputs": [
        {
          "output_type": "stream",
          "name": "stdout",
          "text": [
            "  % Total    % Received % Xferd  Average Speed   Time    Time     Time  Current\n",
            "                                 Dload  Upload   Total   Spent    Left  Speed\n",
            "100  786M  100  786M    0     0  93.0M      0  0:00:08  0:00:08 --:--:--  109M\n"
          ]
        }
      ]
    },
    {
      "cell_type": "code",
      "source": [
        "!unzip -q kagglecatsanddogs_5340.zip\n",
        "!ls"
      ],
      "metadata": {
        "colab": {
          "base_uri": "https://localhost:8080/"
        },
        "id": "CV70-X1AkqBb",
        "outputId": "a8ac5be6-3b1d-4a74-834b-b289382b477e"
      },
      "execution_count": 3,
      "outputs": [
        {
          "output_type": "stream",
          "name": "stdout",
          "text": [
            " CDLA-Permissive-2.0.pdf      PetImages        sample_data\n",
            " kagglecatsanddogs_5340.zip  'readme[1].txt'\n"
          ]
        }
      ]
    },
    {
      "cell_type": "markdown",
      "source": [
        "Now we have a PetImages folder which contain two subfolders, Cat and Dog. Each subfolder contains image files for each category"
      ],
      "metadata": {
        "id": "_2HeD9DCk1B8"
      }
    },
    {
      "cell_type": "code",
      "source": [
        "!ls PetImages"
      ],
      "metadata": {
        "colab": {
          "base_uri": "https://localhost:8080/"
        },
        "id": "VOfoe2qdlAib",
        "outputId": "96b02b15-21f8-4c29-ad66-3cb081a35a29"
      },
      "execution_count": 4,
      "outputs": [
        {
          "output_type": "stream",
          "name": "stdout",
          "text": [
            "Cat  Dog\n"
          ]
        }
      ]
    },
    {
      "cell_type": "markdown",
      "source": [
        "### Filter out corrupted images\n",
        "When working with lots of real-world image data, corrupted images are a common occurrence. Let's filter out badly-encoded images that do not feature the string \"JFIF\" in their header."
      ],
      "metadata": {
        "id": "-bqUpBtZl2Jp"
      }
    },
    {
      "cell_type": "code",
      "source": [
        "num_skipped = 0\n",
        "for folder_name in (\"Cat\", \"Dog\"):\n",
        "  folder_path = os.path.join(\"PetImages\", folder_name)\n",
        "  for fname in os.listdir(folder_path):\n",
        "    fpath = os.path.join(folder_path, fname)\n",
        "    try:\n",
        "      fobj = open(fpath, \"rb\")\n",
        "      is_jfif = b\"JFIF\" in fobj.peek(10)\n",
        "    finally:\n",
        "      fobj.close()\n",
        "\n",
        "    if not is_jfif:\n",
        "      num_skipped += 1\n",
        "      # Delete corrupted image\n",
        "      os.remove(fpath)\n",
        "\n",
        "print(f\"Deleted {num_skipped} images.\")"
      ],
      "metadata": {
        "colab": {
          "base_uri": "https://localhost:8080/"
        },
        "id": "qXBrWK_rmLqK",
        "outputId": "7eceaab5-4d06-4430-a5eb-fbec3b71393b"
      },
      "execution_count": 5,
      "outputs": [
        {
          "output_type": "stream",
          "name": "stdout",
          "text": [
            "Deleted 1590 images.\n"
          ]
        }
      ]
    },
    {
      "cell_type": "markdown",
      "source": [
        "# Generate a dataset"
      ],
      "metadata": {
        "id": "9TwI7YHzhVIZ"
      }
    },
    {
      "cell_type": "code",
      "source": [
        "image_size = (180, 180)\n",
        "batch_size = 128\n",
        "\n",
        "train_ds, val_ds = keras.utils.image_dataset_from_directory(\n",
        "    \"PetImages\",\n",
        "    validation_split=0.2,\n",
        "    subset=\"both\",\n",
        "    seed=1337,\n",
        "    image_size=image_size,\n",
        "    batch_size=batch_size,\n",
        ")"
      ],
      "metadata": {
        "id": "f-thnP2unDa2"
      },
      "execution_count": null,
      "outputs": []
    },
    {
      "cell_type": "code",
      "source": [],
      "metadata": {
        "id": "wlhbI3wshWc4"
      },
      "execution_count": null,
      "outputs": []
    },
    {
      "cell_type": "markdown",
      "source": [
        "# Visualize the data"
      ],
      "metadata": {
        "id": "Rs_wXbJChXlu"
      }
    },
    {
      "cell_type": "code",
      "source": [],
      "metadata": {
        "id": "EC54sAQXhY_t"
      },
      "execution_count": null,
      "outputs": []
    },
    {
      "cell_type": "markdown",
      "source": [
        "# Using image data augmentation"
      ],
      "metadata": {
        "id": "QCFkSaJuhaVR"
      }
    },
    {
      "cell_type": "code",
      "source": [],
      "metadata": {
        "id": "XMP-tnQbhcOF"
      },
      "execution_count": null,
      "outputs": []
    },
    {
      "cell_type": "markdown",
      "source": [
        "# Standarizing the data"
      ],
      "metadata": {
        "id": "03q23Jgzhdnb"
      }
    },
    {
      "cell_type": "code",
      "source": [],
      "metadata": {
        "id": "rfYUv-JVhfe9"
      },
      "execution_count": null,
      "outputs": []
    },
    {
      "cell_type": "markdown",
      "source": [
        "# Configure the dataset for performance"
      ],
      "metadata": {
        "id": "dWWSCs2Bhlh8"
      }
    },
    {
      "cell_type": "code",
      "source": [],
      "metadata": {
        "id": "hgOTrRyhhn-F"
      },
      "execution_count": null,
      "outputs": []
    },
    {
      "cell_type": "markdown",
      "source": [
        "# Build a model"
      ],
      "metadata": {
        "id": "-_02DJejhr1I"
      }
    },
    {
      "cell_type": "code",
      "source": [],
      "metadata": {
        "id": "y4gwf9ZbhtNN"
      },
      "execution_count": null,
      "outputs": []
    },
    {
      "cell_type": "markdown",
      "source": [
        "# Train the model"
      ],
      "metadata": {
        "id": "vBALW6ezhu6T"
      }
    },
    {
      "cell_type": "code",
      "source": [],
      "metadata": {
        "id": "-R-JiI39hwTH"
      },
      "execution_count": null,
      "outputs": []
    },
    {
      "cell_type": "markdown",
      "source": [
        "# Run inference on new data"
      ],
      "metadata": {
        "id": "sT3T6OnOhxqe"
      }
    },
    {
      "cell_type": "code",
      "source": [],
      "metadata": {
        "id": "QJUX1dHUhztF"
      },
      "execution_count": null,
      "outputs": []
    }
  ]
}